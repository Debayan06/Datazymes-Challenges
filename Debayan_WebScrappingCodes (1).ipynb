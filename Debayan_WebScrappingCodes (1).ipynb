{
 "cells": [
  {
   "cell_type": "code",
   "execution_count": 12,
   "metadata": {},
   "outputs": [],
   "source": [
    "#IMPORTING LIBRARIES-------I HAVE IMPORTED URLLIB AS WELL BECAUSE I TRIED RUNNING THE CODE INITIALLY ON PYTHON 3\n",
    "import urllib2\n",
    "import urllib\n",
    "import BeautifulSoup\n",
    "import cookielib\n",
    "import requests"
   ]
  },
  {
   "cell_type": "code",
   "execution_count": 13,
   "metadata": {},
   "outputs": [],
   "source": [
    "# Next step is to fetch the web page and store it in a BeautifulSoup object. We also need a parser to parse through the fetched web page.\n",
    "headers = {\n",
    "'User-Agent': 'Mozilla/5.0 (Macintosh; Intel Mac OS X 10.13; rv:60.0) Gecko/20100101 Firefox/60.0'}\n",
    "url = 'https://health.usnews.com/doctors/city-index/new-jersey'\n",
    "html_content = requests.get(url, headers=headers)\n",
    "html_content.status_code\n",
    "a = (html_content.content)"
   ]
  },
  {
   "cell_type": "code",
   "execution_count": 14,
   "metadata": {},
   "outputs": [],
   "source": [
    "import BeautifulSoup\n",
    "soup = BeautifulSoup.BeautifulSoup(a)"
   ]
  },
  {
   "cell_type": "code",
   "execution_count": 15,
   "metadata": {},
   "outputs": [],
   "source": [
    "#WE ARE TRYING TO EXTRACT THE DOCTOR NAME, QUALIFICATION AND VARIOUS OTHER ATTRIBUTES\n",
    "table = soup.findAll('div',{'class':\"Box-jpvx17-0 cPZXdS\"})"
   ]
  },
  {
   "cell_type": "code",
   "execution_count": 16,
   "metadata": {},
   "outputs": [],
   "source": [
    "link1=[]\n",
    "for i in table:\n",
    "    d = i.findAll('li',{'class':\"List__ListItem-dl3d8e-1 kfaWAY\"})\n",
    "    for j in d:\n",
    "        a = j.findAll('a')\n",
    "        str1 = str(a[0])\n",
    "        b = str1.split('\"')\n",
    "        link1.append(b[1])\n"
   ]
  },
  {
   "cell_type": "markdown",
   "metadata": {},
   "source": [
    "#### FOR PAGE 2"
   ]
  },
  {
   "cell_type": "code",
   "execution_count": 17,
   "metadata": {},
   "outputs": [],
   "source": [
    "link2 = []\n",
    "s = \"https://health.usnews.com\"\n",
    "for i in link1:\n",
    "    link2.append(s+i)"
   ]
  },
  {
   "cell_type": "code",
   "execution_count": 19,
   "metadata": {},
   "outputs": [
    {
     "data": {
      "text/plain": [
       "'https://health.usnews.com/doctors/specialists-index/new-jersey/absecon'"
      ]
     },
     "execution_count": 19,
     "metadata": {},
     "output_type": "execute_result"
    }
   ],
   "source": [
    "sampleLink = link2[0]\n",
    "sampleLink"
   ]
  },
  {
   "cell_type": "code",
   "execution_count": 20,
   "metadata": {},
   "outputs": [],
   "source": [
    "headers = {\n",
    "'User-Agent': 'Mozilla/5.0 (Macintosh; Intel Mac OS X 10.13; rv:60.0) Gecko/20100101 Firefox/60.0'}\n",
    "htmlContent = requests.get(sampleLink, headers=headers)\n",
    "htmlContent.status_code\n",
    "b = (html_content.content)"
   ]
  },
  {
   "cell_type": "code",
   "execution_count": 21,
   "metadata": {},
   "outputs": [],
   "source": [
    "soup_2 = BeautifulSoup.BeautifulSoup(b)"
   ]
  },
  {
   "cell_type": "code",
   "execution_count": 22,
   "metadata": {},
   "outputs": [],
   "source": [
    "table_2 = soup_2.findAll('div',{'class':\"Box-jpvx17-0 cPZXdS\"})\n",
    "#table_2"
   ]
  },
  {
   "cell_type": "code",
   "execution_count": 23,
   "metadata": {},
   "outputs": [],
   "source": [
    "link3=[]\n",
    "department= []\n",
    "for i in table_2:\n",
    "    d = i.findAll('li',{'class':\"List__ListItem-dl3d8e-1 kfaWAY\"})\n",
    "    for j in d:\n",
    "        a = j.findAll('a')\n",
    "        b = (str(a[0]).split('\"'))[1]\n",
    "        link3.append(b)"
   ]
  },
  {
   "cell_type": "code",
   "execution_count": 24,
   "metadata": {},
   "outputs": [],
   "source": [
    "#link3"
   ]
  },
  {
   "cell_type": "markdown",
   "metadata": {},
   "source": [
    "#### FOR PAGE 3"
   ]
  },
  {
   "cell_type": "code",
   "execution_count": 25,
   "metadata": {},
   "outputs": [],
   "source": [
    "s = \"https://health.usnews.com\"\n",
    "for i in range(len(link3)):\n",
    "    link3[i] = s + link3[i]"
   ]
  },
  {
   "cell_type": "code",
   "execution_count": 26,
   "metadata": {},
   "outputs": [],
   "source": [
    "#link3\n",
    "#sample_link_3"
   ]
  },
  {
   "cell_type": "code",
   "execution_count": 33,
   "metadata": {},
   "outputs": [
    {
     "data": {
      "text/plain": [
       "'https://health.usnews.com/doctors/anesthesiologists/new-jersey/absecon'"
      ]
     },
     "execution_count": 33,
     "metadata": {},
     "output_type": "execute_result"
    }
   ],
   "source": [
    "sampleLink3 = link3[0]\n",
    "sampleLink3\n"
   ]
  },
  {
   "cell_type": "code",
   "execution_count": 34,
   "metadata": {},
   "outputs": [],
   "source": [
    "headers = {\n",
    "'User-Agent': 'Mozilla/5.0 (Macintosh; Intel Mac OS X 10.13; rv:60.0) Gecko/20100101 Firefox/60.0'}\n",
    "html_content = requests.get(sampleLink3, headers=headers)\n",
    "html_content.status_code\n",
    "c = (html_content.content)"
   ]
  },
  {
   "cell_type": "code",
   "execution_count": 35,
   "metadata": {},
   "outputs": [],
   "source": [
    "soup_3 = BeautifulSoup.BeautifulSoup(c)\n",
    "#soup_3"
   ]
  },
  {
   "cell_type": "code",
   "execution_count": 36,
   "metadata": {},
   "outputs": [],
   "source": [
    "table_3 = soup_3.findAll('div',{'class':\"flex-small-12 flex-medium\"})\n",
    "#table_3"
   ]
  },
  {
   "cell_type": "code",
   "execution_count": 37,
   "metadata": {},
   "outputs": [],
   "source": [
    "s = \"https://health.usnews.com\"\n",
    "final_link_list = []\n",
    "for i in table_3:    \n",
    "    b = i.findAll('h3',{'class':\"block-flush heading-large\"})\n",
    "    for j in b:\n",
    "        doc_link = j.findAll('a')\n",
    "        final_link_list.append(s +str(doc_link[0]).split('\"')[1])\n",
    "        \n",
    "    #b = (str(a[0]).split('\"'))[1]\n",
    "     #   link3.append(b)"
   ]
  },
  {
   "cell_type": "code",
   "execution_count": 38,
   "metadata": {},
   "outputs": [
    {
     "data": {
      "text/plain": [
       "['https://health.usnews.com/doctors/kenneth-abrams-406792',\n",
       " 'https://health.usnews.com/doctors/mohammad-chohan-359143',\n",
       " 'https://health.usnews.com/doctors/olawale-fadugba-387662',\n",
       " 'https://health.usnews.com/doctors/nicholas-incandela-418878',\n",
       " 'https://health.usnews.com/doctors/merceditas-lagmay-885611',\n",
       " 'https://health.usnews.com/doctors/thomas-long-357783',\n",
       " 'https://health.usnews.com/doctors/denise-marable-913441',\n",
       " 'https://health.usnews.com/doctors/sudha-shah-913444',\n",
       " 'https://health.usnews.com/doctors/qin-wang-1203894',\n",
       " 'https://health.usnews.com/doctors/su-lin-yao-1032400',\n",
       " 'https://health.usnews.com/doctors/richard-zalman-913463',\n",
       " 'https://health.usnews.com/doctors/nina-singh-478341',\n",
       " 'https://health.usnews.com/doctors/jessica-costabile-515786',\n",
       " 'https://health.usnews.com/doctors/mark-davidov-694943',\n",
       " 'https://health.usnews.com/doctors/david-gayeski-636317',\n",
       " 'https://health.usnews.com/doctors/romeo-pericic-886548',\n",
       " 'https://health.usnews.com/doctors/elizabeth-riccobono-801975',\n",
       " 'https://health.usnews.com/doctors/yun-zhu-847722',\n",
       " 'https://health.usnews.com/doctors/john-fisgus-1032316',\n",
       " 'https://health.usnews.com/doctors/patricia-kasica-574933']"
      ]
     },
     "execution_count": 38,
     "metadata": {},
     "output_type": "execute_result"
    }
   ],
   "source": [
    "#WE ARE EXTRACTING ALL THE LINKS AND STORING THEM IN A LINKLIST\n",
    "sample_final_info_doc = final_link_list[1]\n",
    "final_link_list\n"
   ]
  },
  {
   "cell_type": "code",
   "execution_count": 39,
   "metadata": {},
   "outputs": [
    {
     "data": {
      "text/plain": [
       "'https://health.usnews.com/doctors/mohammad-chohan-359143'"
      ]
     },
     "execution_count": 39,
     "metadata": {},
     "output_type": "execute_result"
    }
   ],
   "source": [
    "sample_final_info_doc"
   ]
  },
  {
   "cell_type": "code",
   "execution_count": 40,
   "metadata": {},
   "outputs": [],
   "source": [
    "headers = {\n",
    "'User-Agent': 'Mozilla/5.0 (Macintosh; Intel Mac OS X 10.13; rv:60.0) Gecko/20100101 Firefox/60.0'}\n",
    "html_content = requests.get(sample_final_info_doc, headers=headers)\n",
    "html_content.status_code\n",
    "d = (html_content.content)"
   ]
  },
  {
   "cell_type": "code",
   "execution_count": 41,
   "metadata": {},
   "outputs": [],
   "source": [
    "soup_4 = BeautifulSoup.BeautifulSoup(d)"
   ]
  },
  {
   "cell_type": "code",
   "execution_count": 42,
   "metadata": {},
   "outputs": [],
   "source": [
    "#soup_4"
   ]
  },
  {
   "cell_type": "markdown",
   "metadata": {},
   "source": [
    "### DCOTOR NAME"
   ]
  },
  {
   "cell_type": "code",
   "execution_count": 43,
   "metadata": {},
   "outputs": [
    {
     "data": {
      "text/plain": [
       "'Dr. Mohammad ChohanMD'"
      ]
     },
     "execution_count": 43,
     "metadata": {},
     "output_type": "execute_result"
    }
   ],
   "source": [
    "dName = str(soup_4.find('h1',{'class':\"hero-heading flex-media-heading block-tight doctor-name \"}).getText())\n",
    "dName"
   ]
  },
  {
   "cell_type": "markdown",
   "metadata": {},
   "source": [
    "### DOCTOR OVERVIEW"
   ]
  },
  {
   "cell_type": "code",
   "execution_count": 44,
   "metadata": {},
   "outputs": [
    {
     "data": {
      "text/plain": [
       "'Dr. Mohammad Chohan is an anesthesiologist in Pomona, New Jersey. He received his medical degree from King Edward Medical University and has been in practice for more than 20 years.'"
      ]
     },
     "execution_count": 44,
     "metadata": {},
     "output_type": "execute_result"
    }
   ],
   "source": [
    "dOverview = str(soup_4.find('div',{'class':\"block-normal clearfix\"}).getText())\n",
    "dOverview"
   ]
  },
  {
   "cell_type": "markdown",
   "metadata": {},
   "source": [
    "### DOCTOR'S  EXPERIENCE"
   ]
  },
  {
   "cell_type": "code",
   "execution_count": 45,
   "metadata": {},
   "outputs": [
    {
     "data": {
      "text/plain": [
       "u'21+'"
      ]
     },
     "execution_count": 45,
     "metadata": {},
     "output_type": "execute_result"
    }
   ],
   "source": [
    "dExp = soup_4.findAll('span',{'class':\"text-large heading-normal-for-small-only right-for-medium-up\"})[1].getText()\n",
    "dExp"
   ]
  },
  {
   "cell_type": "code",
   "execution_count": 46,
   "metadata": {},
   "outputs": [
    {
     "data": {
      "text/plain": [
       "21"
      ]
     },
     "execution_count": 46,
     "metadata": {},
     "output_type": "execute_result"
    }
   ],
   "source": [
    "dExp = int(''.join(x for x in exp if x.isdigit()))\n",
    "dExp"
   ]
  },
  {
   "cell_type": "markdown",
   "metadata": {},
   "source": [
    "### LANGUAGE SPOKEN BY DOCTOR"
   ]
  },
  {
   "cell_type": "code",
   "execution_count": 47,
   "metadata": {},
   "outputs": [],
   "source": [
    "dLanguage = str(soup_4.findAll('span',{'class':\"text-large heading-normal-for-small-only right-for-medium-up text-right showmore\"})[0].getText())"
   ]
  },
  {
   "cell_type": "code",
   "execution_count": 48,
   "metadata": {},
   "outputs": [
    {
     "data": {
      "text/plain": [
       "'English'"
      ]
     },
     "execution_count": 48,
     "metadata": {},
     "output_type": "execute_result"
    }
   ],
   "source": [
    "dLanguage"
   ]
  },
  {
   "cell_type": "markdown",
   "metadata": {},
   "source": [
    "### OFFICE LOCATION OF DOCTOR"
   ]
  },
  {
   "cell_type": "code",
   "execution_count": 49,
   "metadata": {},
   "outputs": [],
   "source": [
    "officeLocation = str(soup_4.findAll('span',{'class':\"text-strong\"})[0].getText())"
   ]
  },
  {
   "cell_type": "code",
   "execution_count": 50,
   "metadata": {},
   "outputs": [
    {
     "data": {
      "text/plain": [
       "'65 Jimmie Leeds RoadPomona, NJ 08240'"
      ]
     },
     "execution_count": 50,
     "metadata": {},
     "output_type": "execute_result"
    }
   ],
   "source": [
    "officeLocation"
   ]
  },
  {
   "cell_type": "markdown",
   "metadata": {},
   "source": [
    "## Hospital Affiliation"
   ]
  },
  {
   "cell_type": "code",
   "execution_count": 51,
   "metadata": {},
   "outputs": [
    {
     "data": {
      "text/plain": [
       "'No'"
      ]
     },
     "execution_count": 51,
     "metadata": {},
     "output_type": "execute_result"
    }
   ],
   "source": [
    "hospitalAffiliation = soup_4.findAll(\"div\",{\"class\":\"flex-small-12 padding-flush\"})\n",
    "if hospitalAffiliation == []:\n",
    "    hos_affiliation = \"No\"\n",
    "else:\n",
    "    a = []\n",
    "    for i in hospitalAffiliation:\n",
    "        a.append(i.find('a',{'class':'heading-larger block-tight'}).getText())\n",
    "    hos_affiliation = str(\",\".join(a))\n",
    "hos_affiliation"
   ]
  },
  {
   "cell_type": "markdown",
   "metadata": {},
   "source": [
    "## Specialities ans sub-specialties"
   ]
  },
  {
   "cell_type": "code",
   "execution_count": 52,
   "metadata": {},
   "outputs": [],
   "source": [
    "specialities_sub= soup_4.findAll('div',{'class':\"flex-medium-6 flex-small-12\"})"
   ]
  },
  {
   "cell_type": "code",
   "execution_count": 53,
   "metadata": {},
   "outputs": [
    {
     "data": {
      "text/plain": [
       "'Anesthesiology'"
      ]
     },
     "execution_count": 53,
     "metadata": {},
     "output_type": "execute_result"
    }
   ],
   "source": [
    "dSpecialties = str(specialities_sub[0].find('a',{'class':'text-large'}).getText())\n",
    "dSpecialties"
   ]
  },
  {
   "cell_type": "code",
   "execution_count": 54,
   "metadata": {},
   "outputs": [],
   "source": [
    "subSpecialties = str(specialities_sub[0].find('p',{'class':'text-large block-tight'}).getText())\n",
    "spec = subSpecialties "
   ]
  },
  {
   "cell_type": "markdown",
   "metadata": {},
   "source": [
    "## Education"
   ]
  },
  {
   "cell_type": "code",
   "execution_count": 55,
   "metadata": {},
   "outputs": [],
   "source": [
    "section = soup_4.findAll('section',{'class':\"block-loosest\"})"
   ]
  },
  {
   "cell_type": "code",
   "execution_count": 56,
   "metadata": {},
   "outputs": [],
   "source": [
    "index_education_section = 0\n",
    "for i in range(len(section)):\n",
    "    if str(section[i].find('h2',{'class':\"heading-larger block-normal\"}).getText()) == 'Education &amp; Medical Training':\n",
    "        index_education_section = i\n",
    "        break"
   ]
  },
  {
   "cell_type": "code",
   "execution_count": 57,
   "metadata": {},
   "outputs": [],
   "source": [
    "education_list = section[index_education_section].findAll(['li'])"
   ]
  },
  {
   "cell_type": "code",
   "execution_count": 58,
   "metadata": {},
   "outputs": [],
   "source": [
    "education = []\n",
    "for i in education_list:\n",
    "     education.append(\" \".join(i.getText().split()))"
   ]
  },
  {
   "cell_type": "code",
   "execution_count": 59,
   "metadata": {},
   "outputs": [
    {
     "data": {
      "text/plain": [
       "'George Washington UniversityResidency , Anesthesiology Thomas Jefferson UniversityResidency , Anesthesiology Portsmouth General HospitalResidency , General Surgery Lewis - Gale HospitalResidency , General Surgery Danbury HospitalInternship , Transitional Year King Edward Medical UniversityMedical School'"
      ]
     },
     "execution_count": 59,
     "metadata": {},
     "output_type": "execute_result"
    }
   ],
   "source": [
    "str(\" \".join(education))"
   ]
  },
  {
   "cell_type": "markdown",
   "metadata": {},
   "source": [
    "##  Certification and Licensure"
   ]
  },
  {
   "cell_type": "code",
   "execution_count": 60,
   "metadata": {},
   "outputs": [],
   "source": [
    "indexCertificationSection = 0\n",
    "for i in range(len(section)):\n",
    "    if str(section[i].find('h2',{'class':\"heading-larger block-normal\"}).getText()) == 'Certifications &amp; Licensure':\n",
    "        indexCertificationSection = i\n",
    "        break"
   ]
  },
  {
   "cell_type": "code",
   "execution_count": 61,
   "metadata": {},
   "outputs": [],
   "source": [
    "certification = section[indexCertificationSection].findAll('li')"
   ]
  },
  {
   "cell_type": "code",
   "execution_count": 62,
   "metadata": {},
   "outputs": [],
   "source": [
    "certifications = []\n",
    "for i in certification:\n",
    "    certifications.append(str(i.getText()))"
   ]
  },
  {
   "cell_type": "code",
   "execution_count": 63,
   "metadata": {},
   "outputs": [
    {
     "data": {
      "text/plain": [
       "'American Board of AnesthesiologyCertified in Anesthesiology OH State Medical LicenseActive through 2015'"
      ]
     },
     "execution_count": 63,
     "metadata": {},
     "output_type": "execute_result"
    }
   ],
   "source": [
    "\" \".join(certifications)"
   ]
  },
  {
   "cell_type": "markdown",
   "metadata": {},
   "source": [
    "### Code to extract information of a doctor. "
   ]
  },
  {
   "cell_type": "markdown",
   "metadata": {},
   "source": [
    "### Data set :"
   ]
  },
  {
   "cell_type": "code",
   "execution_count": 96,
   "metadata": {},
   "outputs": [],
   "source": [
    "import pandas as pd\n",
    "import numpy as np"
   ]
  },
  {
   "cell_type": "code",
   "execution_count": null,
   "metadata": {},
   "outputs": [],
   "source": [
    "#Now we are adding the extracted data to a pandas dataframe to get a dataset for analysis"
   ]
  },
  {
   "cell_type": "code",
   "execution_count": 97,
   "metadata": {},
   "outputs": [],
   "source": [
    "df = pd.DataFrame(columns=['Name', 'Overview', 'Years in practice', 'Language',\n",
    "       'Office location', 'Hospital Affiliation',\n",
    "       'Specialties & sub specialties', 'Education & medical training',\n",
    "       'Certification & licensure'])"
   ]
  },
  {
   "cell_type": "code",
   "execution_count": 98,
   "metadata": {},
   "outputs": [
    {
     "data": {
      "text/html": [
       "<div>\n",
       "<style scoped>\n",
       "    .dataframe tbody tr th:only-of-type {\n",
       "        vertical-align: middle;\n",
       "    }\n",
       "\n",
       "    .dataframe tbody tr th {\n",
       "        vertical-align: top;\n",
       "    }\n",
       "\n",
       "    .dataframe thead th {\n",
       "        text-align: right;\n",
       "    }\n",
       "</style>\n",
       "<table border=\"1\" class=\"dataframe\">\n",
       "  <thead>\n",
       "    <tr style=\"text-align: right;\">\n",
       "      <th></th>\n",
       "      <th>Name</th>\n",
       "      <th>Overview</th>\n",
       "      <th>Years in practice</th>\n",
       "      <th>Language</th>\n",
       "      <th>Office location</th>\n",
       "      <th>Hospital Affiliation</th>\n",
       "      <th>Specialties &amp; sub specialties</th>\n",
       "      <th>Education &amp; medical training</th>\n",
       "      <th>Certification &amp; licensure</th>\n",
       "    </tr>\n",
       "  </thead>\n",
       "  <tbody>\n",
       "  </tbody>\n",
       "</table>\n",
       "</div>"
      ],
      "text/plain": [
       "Empty DataFrame\n",
       "Columns: [Name, Overview, Years in practice, Language, Office location, Hospital Affiliation, Specialties & sub specialties, Education & medical training, Certification & licensure]\n",
       "Index: []"
      ]
     },
     "execution_count": 98,
     "metadata": {},
     "output_type": "execute_result"
    }
   ],
   "source": [
    "df"
   ]
  },
  {
   "cell_type": "code",
   "execution_count": 99,
   "metadata": {},
   "outputs": [],
   "source": [
    "def getLink(link):\n",
    "    headers = {\n",
    "    'User-Agent': 'Mozilla/5.0 (Macintosh; Intel Mac OS X 10.13; rv:60.0) Gecko/20100101 Firefox/60.0'}\n",
    "    html_content = requests.get(link, headers=headers)\n",
    "    html_content.status_code\n",
    "    d = (html_content.content)\n",
    "    return BeautifulSoup.BeautifulSoup(d)"
   ]
  },
  {
   "cell_type": "code",
   "execution_count": 85,
   "metadata": {},
   "outputs": [],
   "source": [
    "#soup_4 = link(sample_final_info_doc)"
   ]
  },
  {
   "cell_type": "code",
   "execution_count": 100,
   "metadata": {},
   "outputs": [],
   "source": [
    "def getDocInfo(soup_4):\n",
    "    each_doc_info = []\n",
    "    # Doctor name\n",
    "    each_doc_info.append(str(soup_4.find('h1',{'class':\"hero-heading flex-media-heading block-tight doctor-name \"}).getText()))\n",
    "\n",
    "    # Doctor overview\n",
    "    each_doc_info.append(str(soup_4.find('div',{'class':\"block-normal clearfix\"}).getText()))\n",
    "\n",
    "    # Experience\n",
    "    dExp = soup_4.findAll('span',{'class':\"text-large heading-normal-for-small-only right-for-medium-up\"})[1].getText()\n",
    "    #each_doc_info.append(int(''.join(x for x in exp if x.isdigit())))\n",
    "    each_doc_info.append(exp)\n",
    "    # Language\n",
    "    each_doc_info.append(str(soup_4.findAll('span',\n",
    "                        {'class':\"text-large heading-normal-for-small-only right-for-medium-up text-right showmore\"})[0].getText()))\n",
    "\n",
    "    #office_location\n",
    "    each_doc_info.append(str(soup_4.findAll('span',{'class':\"text-strong\"})[0].getText()))\n",
    "    \n",
    "    hospitalAffiliation = soup_4.findAll(\"div\",{\"class\":\"flex-small-12 padding-flush\"})\n",
    "    if hospitalAffiliation == []:\n",
    "        hos_affiliation = \"No\"\n",
    "    else:\n",
    "        a = []\n",
    "        for i in hospitalAffiliation:\n",
    "            a.append(i.find('a',{'class':'heading-larger block-tight'}).getText())\n",
    "        hos_affiliation = str(\",\".join(a))\n",
    "    each_doc_info.append(hos_affiliation)\n",
    "    \n",
    "    # Specialties and sub-specialties\n",
    "    specialities_sub= soup_4.findAll('div',{'class':\"flex-medium-6 flex-small-12\"})\n",
    "    dSpecialties = str(specialities_sub[0].find('a',{'class':'text-large'}).getText())\n",
    "    subSpecialties = str(subSpecialties[0].find('p',{'class':'text-large block-tight'}).getText())\n",
    "    special = \"Specialties: \" +specialties + \", sub-specialties: \" + sub_specialties\n",
    "    each_doc_info.append(special)\n",
    "    \n",
    "    # Education\n",
    "    section = soup_4.findAll('section',{'class':\"block-loosest\"})\n",
    "    index_education_section = 0\n",
    "    for i in range(len(section)):\n",
    "        if str(section[i].find('h2',{'class':\"heading-larger block-normal\"}).getText()) == 'Education &amp; Medical Training':\n",
    "            index_education_section = i\n",
    "            break\n",
    "    education_list = section[index_education_section].findAll(['li'])\n",
    "    education = []\n",
    "    for i in education_list:\n",
    "         education.append(\" \".join(i.getText().split()))\n",
    "    education = str(\" \".join(education))\n",
    "    each_doc_info.append(education)\n",
    "    \n",
    "    # Certification\n",
    "    indexCertificationSection = 0\n",
    "    for i in range(len(section)):\n",
    "        if str(section[i].find('h2',{'class':\"heading-larger block-normal\"}).getText()) == 'Certifications &amp; Licensure':\n",
    "            indexCertificationSection = i\n",
    "            break\n",
    "    certification = section[indexCertificationSection].findAll('li')\n",
    "    certifications = []\n",
    "    for i in certification:\n",
    "        certifications.append(str(i.getText()))\n",
    "    each_doc_info.append(\" \".join(certifications))\n",
    "    return each_doc_info\n",
    "    \n",
    "    "
   ]
  },
  {
   "cell_type": "code",
   "execution_count": 89,
   "metadata": {},
   "outputs": [],
   "source": [
    "#x = getDocInfo(soup_4)"
   ]
  },
  {
   "cell_type": "code",
   "execution_count": 101,
   "metadata": {},
   "outputs": [],
   "source": [
    "def appendingData(info_list):\n",
    "    j = 0\n",
    "    row_num = new_jersy_data.shape[0]+1\n",
    "    for i in new_jersy_data.columns:\n",
    "        new_jersy_data.loc[row_num,i] = info_list[j]\n",
    "        j = j+1"
   ]
  },
  {
   "cell_type": "code",
   "execution_count": 81,
   "metadata": {},
   "outputs": [],
   "source": [
    "appendingData(x)"
   ]
  },
  {
   "cell_type": "code",
   "execution_count": 102,
   "metadata": {},
   "outputs": [],
   "source": [
    "try:\n",
    "    for j in link3:\n",
    "        soup_object_departments = link(j)\n",
    "        table_3 = soup_3.findAll('div',{'class':\"flex-small-12 flex-medium\"})\n",
    "    for i in final_link_list:\n",
    "        soup_object = link(i)\n",
    "        info_list = getDocInfo(soup_object)\n",
    "        appending_data(info_list)\n",
    "except:\n",
    "    pass"
   ]
  },
  {
   "cell_type": "code",
   "execution_count": 104,
   "metadata": {},
   "outputs": [
    {
     "data": {
      "text/html": [
       "<div>\n",
       "<style scoped>\n",
       "    .dataframe tbody tr th:only-of-type {\n",
       "        vertical-align: middle;\n",
       "    }\n",
       "\n",
       "    .dataframe tbody tr th {\n",
       "        vertical-align: top;\n",
       "    }\n",
       "\n",
       "    .dataframe thead th {\n",
       "        text-align: right;\n",
       "    }\n",
       "</style>\n",
       "<table border=\"1\" class=\"dataframe\">\n",
       "  <thead>\n",
       "    <tr style=\"text-align: right;\">\n",
       "      <th></th>\n",
       "      <th>Name</th>\n",
       "      <th>Overview</th>\n",
       "      <th>Years in practice</th>\n",
       "      <th>Language</th>\n",
       "      <th>Office location</th>\n",
       "      <th>Hospital Affiliation</th>\n",
       "      <th>Specialties &amp; sub specialties</th>\n",
       "      <th>Education &amp; medical training</th>\n",
       "      <th>Certification &amp; licensure</th>\n",
       "    </tr>\n",
       "  </thead>\n",
       "  <tbody>\n",
       "    <tr>\n",
       "      <th>1</th>\n",
       "      <td>Dr. Kenneth AbramsMD</td>\n",
       "      <td>Dr. Kenneth Abrams is an anesthesiologist in P...</td>\n",
       "      <td>21+</td>\n",
       "      <td>English</td>\n",
       "      <td>65 Jimmie Leeds RoadDepartment Of Anesthesiolo...</td>\n",
       "      <td>No</td>\n",
       "      <td>Specialties: Anesthesiology, sub-specialties: ...</td>\n",
       "      <td>Albert Einstein College of MedicineResidency ,...</td>\n",
       "      <td>American Board of AnesthesiologyCertified in A...</td>\n",
       "    </tr>\n",
       "    <tr>\n",
       "      <th>2</th>\n",
       "      <td>Dr. Mohammad ChohanMD</td>\n",
       "      <td>Dr. Mohammad Chohan is an anesthesiologist in ...</td>\n",
       "      <td>21+</td>\n",
       "      <td>English</td>\n",
       "      <td>65 Jimmie Leeds RoadPomona, NJ 08240</td>\n",
       "      <td>No</td>\n",
       "      <td>Specialties: Anesthesiology, sub-specialties: ...</td>\n",
       "      <td>George Washington UniversityResidency , Anesth...</td>\n",
       "      <td>American Board of AnesthesiologyCertified in A...</td>\n",
       "    </tr>\n",
       "    <tr>\n",
       "      <th>3</th>\n",
       "      <td>Dr. Olawale FadugbaMD</td>\n",
       "      <td>Dr. Olawale Fadugba is an anesthesiologist in ...</td>\n",
       "      <td>21+</td>\n",
       "      <td>English</td>\n",
       "      <td>65 Jimmie Leeds RoadDepartment Of Anesthesia A...</td>\n",
       "      <td>AtlantiCare Regional Medical Center</td>\n",
       "      <td>Specialties: Anesthesiology, sub-specialties: ...</td>\n",
       "      <td>New York Medical CollegeResidency , Anesthesio...</td>\n",
       "      <td>American Board of AnesthesiologyCertified in A...</td>\n",
       "    </tr>\n",
       "    <tr>\n",
       "      <th>4</th>\n",
       "      <td>Dr. Nicholas IncandelaMD</td>\n",
       "      <td>Dr. Nicholas Incandela is an anesthesiologist ...</td>\n",
       "      <td>21+</td>\n",
       "      <td>English</td>\n",
       "      <td>65 Jimmie Leeds RdDept Of AnesthiologyPomona, ...</td>\n",
       "      <td>No</td>\n",
       "      <td>Specialties: Anesthesiology, sub-specialties: ...</td>\n",
       "      <td>Albert Einstein College of Medicine at Jacobi ...</td>\n",
       "      <td>American Board of AnesthesiologyCertified in A...</td>\n",
       "    </tr>\n",
       "    <tr>\n",
       "      <th>5</th>\n",
       "      <td>Dr. Merceditas LagmayMD</td>\n",
       "      <td>Dr. Merceditas Lagmay is an anesthesiologist i...</td>\n",
       "      <td>1 - 2</td>\n",
       "      <td>English</td>\n",
       "      <td>65 Jimmie Leeds RoadPomona, NJ 08240</td>\n",
       "      <td>No</td>\n",
       "      <td>Specialties: Anesthesiology, sub-specialties: ...</td>\n",
       "      <td>Mount Sinai School of MedicineResidency , Anes...</td>\n",
       "      <td>American Board of AnesthesiologyCertified in A...</td>\n",
       "    </tr>\n",
       "    <tr>\n",
       "      <th>6</th>\n",
       "      <td>Dr. Thomas LongMD</td>\n",
       "      <td>Dr. Thomas Long is an anesthesiologist in Pomo...</td>\n",
       "      <td>21+</td>\n",
       "      <td>English</td>\n",
       "      <td>65 Jimmie Leeds RoadPomona, NJ 08240</td>\n",
       "      <td>No</td>\n",
       "      <td>Specialties: Anesthesiology, sub-specialties: ...</td>\n",
       "      <td>Albert Einstein College of MedicineResidency ,...</td>\n",
       "      <td>American Board of AnesthesiologyCertified in A...</td>\n",
       "    </tr>\n",
       "    <tr>\n",
       "      <th>7</th>\n",
       "      <td>Dr. Denise MarableMD</td>\n",
       "      <td>Dr. Denise Marable is an anesthesiologist in P...</td>\n",
       "      <td>21+</td>\n",
       "      <td>English</td>\n",
       "      <td>65 Jimmie Leeds RoadPomona, NJ 08240</td>\n",
       "      <td>AtlantiCare Regional Medical Center</td>\n",
       "      <td>Specialties: Anesthesiology, sub-specialties: ...</td>\n",
       "      <td>Detroit Medical Center - Wayne State Universit...</td>\n",
       "      <td>American Board of AnesthesiologyCertified in A...</td>\n",
       "    </tr>\n",
       "    <tr>\n",
       "      <th>8</th>\n",
       "      <td>Dr. Sudha ShahMD</td>\n",
       "      <td>Dr. Sudha Shah is an anesthesiologist in Pomon...</td>\n",
       "      <td>21+</td>\n",
       "      <td>English</td>\n",
       "      <td>65 Jimmie Leeds RoadPomona, NJ 08240</td>\n",
       "      <td>AtlantiCare Regional Medical Center</td>\n",
       "      <td>Specialties: Anesthesiology, sub-specialties: ...</td>\n",
       "      <td>Albert Einstein Healthcare NetworkResidency , ...</td>\n",
       "      <td>American Board of AnesthesiologyCertified in A...</td>\n",
       "    </tr>\n",
       "    <tr>\n",
       "      <th>9</th>\n",
       "      <td>Dr. Qin WangMD</td>\n",
       "      <td>Dr. Qin Wang is an anesthesiologist in Pomona,...</td>\n",
       "      <td>21+</td>\n",
       "      <td>English</td>\n",
       "      <td>65 Jimmie Leeds RoadPomona, NJ 08240</td>\n",
       "      <td>No</td>\n",
       "      <td>Specialties: Anesthesiology, sub-specialties: ...</td>\n",
       "      <td>Wannan Medical CollegeMedical School</td>\n",
       "      <td>American Board of AnesthesiologyCertified in A...</td>\n",
       "    </tr>\n",
       "  </tbody>\n",
       "</table>\n",
       "</div>"
      ],
      "text/plain": [
       "                       Name  \\\n",
       "1      Dr. Kenneth AbramsMD   \n",
       "2     Dr. Mohammad ChohanMD   \n",
       "3     Dr. Olawale FadugbaMD   \n",
       "4  Dr. Nicholas IncandelaMD   \n",
       "5   Dr. Merceditas LagmayMD   \n",
       "6         Dr. Thomas LongMD   \n",
       "7      Dr. Denise MarableMD   \n",
       "8          Dr. Sudha ShahMD   \n",
       "9            Dr. Qin WangMD   \n",
       "\n",
       "                                            Overview Years in practice  \\\n",
       "1  Dr. Kenneth Abrams is an anesthesiologist in P...               21+   \n",
       "2  Dr. Mohammad Chohan is an anesthesiologist in ...               21+   \n",
       "3  Dr. Olawale Fadugba is an anesthesiologist in ...               21+   \n",
       "4  Dr. Nicholas Incandela is an anesthesiologist ...               21+   \n",
       "5  Dr. Merceditas Lagmay is an anesthesiologist i...             1 - 2   \n",
       "6  Dr. Thomas Long is an anesthesiologist in Pomo...               21+   \n",
       "7  Dr. Denise Marable is an anesthesiologist in P...               21+   \n",
       "8  Dr. Sudha Shah is an anesthesiologist in Pomon...               21+   \n",
       "9  Dr. Qin Wang is an anesthesiologist in Pomona,...               21+   \n",
       "\n",
       "  Language                                    Office location  \\\n",
       "1  English  65 Jimmie Leeds RoadDepartment Of Anesthesiolo...   \n",
       "2  English               65 Jimmie Leeds RoadPomona, NJ 08240   \n",
       "3  English  65 Jimmie Leeds RoadDepartment Of Anesthesia A...   \n",
       "4  English  65 Jimmie Leeds RdDept Of AnesthiologyPomona, ...   \n",
       "5  English               65 Jimmie Leeds RoadPomona, NJ 08240   \n",
       "6  English               65 Jimmie Leeds RoadPomona, NJ 08240   \n",
       "7  English               65 Jimmie Leeds RoadPomona, NJ 08240   \n",
       "8  English               65 Jimmie Leeds RoadPomona, NJ 08240   \n",
       "9  English               65 Jimmie Leeds RoadPomona, NJ 08240   \n",
       "\n",
       "                  Hospital Affiliation  \\\n",
       "1                                   No   \n",
       "2                                   No   \n",
       "3  AtlantiCare Regional Medical Center   \n",
       "4                                   No   \n",
       "5                                   No   \n",
       "6                                   No   \n",
       "7  AtlantiCare Regional Medical Center   \n",
       "8  AtlantiCare Regional Medical Center   \n",
       "9                                   No   \n",
       "\n",
       "                       Specialties & sub specialties  \\\n",
       "1  Specialties: Anesthesiology, sub-specialties: ...   \n",
       "2  Specialties: Anesthesiology, sub-specialties: ...   \n",
       "3  Specialties: Anesthesiology, sub-specialties: ...   \n",
       "4  Specialties: Anesthesiology, sub-specialties: ...   \n",
       "5  Specialties: Anesthesiology, sub-specialties: ...   \n",
       "6  Specialties: Anesthesiology, sub-specialties: ...   \n",
       "7  Specialties: Anesthesiology, sub-specialties: ...   \n",
       "8  Specialties: Anesthesiology, sub-specialties: ...   \n",
       "9  Specialties: Anesthesiology, sub-specialties: ...   \n",
       "\n",
       "                        Education & medical training  \\\n",
       "1  Albert Einstein College of MedicineResidency ,...   \n",
       "2  George Washington UniversityResidency , Anesth...   \n",
       "3  New York Medical CollegeResidency , Anesthesio...   \n",
       "4  Albert Einstein College of Medicine at Jacobi ...   \n",
       "5  Mount Sinai School of MedicineResidency , Anes...   \n",
       "6  Albert Einstein College of MedicineResidency ,...   \n",
       "7  Detroit Medical Center - Wayne State Universit...   \n",
       "8  Albert Einstein Healthcare NetworkResidency , ...   \n",
       "9               Wannan Medical CollegeMedical School   \n",
       "\n",
       "                           Certification & licensure  \n",
       "1  American Board of AnesthesiologyCertified in A...  \n",
       "2  American Board of AnesthesiologyCertified in A...  \n",
       "3  American Board of AnesthesiologyCertified in A...  \n",
       "4  American Board of AnesthesiologyCertified in A...  \n",
       "5  American Board of AnesthesiologyCertified in A...  \n",
       "6  American Board of AnesthesiologyCertified in A...  \n",
       "7  American Board of AnesthesiologyCertified in A...  \n",
       "8  American Board of AnesthesiologyCertified in A...  \n",
       "9  American Board of AnesthesiologyCertified in A...  "
      ]
     },
     "execution_count": 104,
     "metadata": {},
     "output_type": "execute_result"
    }
   ],
   "source": [
    "df"
   ]
  },
  {
   "cell_type": "code",
   "execution_count": null,
   "metadata": {},
   "outputs": [],
   "source": []
  },
  {
   "cell_type": "code",
   "execution_count": null,
   "metadata": {},
   "outputs": [],
   "source": []
  },
  {
   "cell_type": "markdown",
   "metadata": {},
   "source": [
    "## Function"
   ]
  },
  {
   "cell_type": "code",
   "execution_count": 64,
   "metadata": {},
   "outputs": [],
   "source": [
    "dName = str(soup_4.find('h1',{'class':\"hero-heading flex-media-heading block-tight doctor-name \"}).getText())\n",
    "\n",
    "dOverview = str(soup_4.find('div',{'class':\"block-normal clearfix\"}).getText())\n",
    "\n",
    "dExp = soup_4.findAll('span',{'class':\"text-large heading-normal-for-small-only right-for-medium-up\"})[1].getText()\n",
    "dExp = int(''.join(x for x in exp if x.isdigit()))\n",
    "\n",
    "dLanguage = str(soup_4.findAll('span',\n",
    "                    {'class':\"text-large heading-normal-for-small-only right-for-medium-up text-right showmore\"})[0].getText())\n",
    "\n",
    "officeLocation = str(soup_4.findAll('span',{'class':\"text-strong\"})[0].getText())"
   ]
  },
  {
   "cell_type": "code",
   "execution_count": 96,
   "metadata": {},
   "outputs": [
    {
     "data": {
      "text/plain": [
       "'Shore Medical Center,AtlantiCare Regional Medical Center'"
      ]
     },
     "execution_count": 96,
     "metadata": {},
     "output_type": "execute_result"
    }
   ],
   "source": [
    "hospitalAffiliation = soup_4.findAll(\"div\",{\"class\":\"flex-small-12 padding-flush\"})\n",
    "if hospitalAffiliation == []:\n",
    "    hos_affiliation = \"No\"\n",
    "else:\n",
    "    a = []\n",
    "    for i in hospitalAffiliation:\n",
    "        a.append(i.find('a',{'class':'heading-larger block-tight'}).getText())\n",
    "    hos_affiliation = str(\",\".join(a))\n",
    "hos_affiliation"
   ]
  },
  {
   "cell_type": "code",
   "execution_count": 49,
   "metadata": {},
   "outputs": [],
   "source": [
    "specialities_sub= soup_4.findAll('div',{'class':\"flex-medium-6 flex-small-12\"})\n",
    "dSpecialties = str(specialities_sub[0].find('a',{'class':'text-large'}).getText())\n",
    "subSpecialties = str(specialities_sub[0].find('p',{'class':'text-large block-tight'}).getText())\n",
    "special = \"Specialties: \" +specialties + \", sub-specialties: \" + subSpecialties"
   ]
  },
  {
   "cell_type": "code",
   "execution_count": 50,
   "metadata": {},
   "outputs": [],
   "source": [
    "section = soup_4.findAll('section',{'class':\"block-loosest\"})\n",
    "index_education_section = 0\n",
    "for i in range(len(section)):\n",
    "    if str(section[i].find('h2',{'class':\"heading-larger block-normal\"}).getText()) == 'Education &amp; Medical Training':\n",
    "        index_education_section = i\n",
    "        break\n",
    "education_list = section[index_education_section].findAll(['li'])\n",
    "education = []\n",
    "for i in education_list:\n",
    "     education.append(\" \".join(i.getText().split()))\n",
    "education = str(\" \".join(education))"
   ]
  },
  {
   "cell_type": "code",
   "execution_count": 51,
   "metadata": {},
   "outputs": [],
   "source": [
    "indexCertificationSection = 0\n",
    "for i in range(len(section)):\n",
    "    if str(section[i].find('h2',{'class':\"heading-larger block-normal\"}).getText()) == 'Certifications &amp; Licensure':\n",
    "        indexCertificationSection = i\n",
    "        break\n",
    "certification = section[indexCertificationSection].findAll('li')\n",
    "certifications = []\n",
    "for i in certification:\n",
    "    certifications.append(str(i.getText()))\n",
    "certifications = \" \".join(certifications)"
   ]
  }
 ],
 "metadata": {
  "kernelspec": {
   "display_name": "Python 2",
   "language": "python",
   "name": "python2"
  },
  "language_info": {
   "codemirror_mode": {
    "name": "ipython",
    "version": 2
   },
   "file_extension": ".py",
   "mimetype": "text/x-python",
   "name": "python",
   "nbconvert_exporter": "python",
   "pygments_lexer": "ipython2",
   "version": "2.7.15"
  }
 },
 "nbformat": 4,
 "nbformat_minor": 2
}
